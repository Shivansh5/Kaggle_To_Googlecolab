{
  "nbformat": 4,
  "nbformat_minor": 0,
  "metadata": {
    "colab": {
      "name": "Kaggle_To_Googlecolab.ipynb",
      "provenance": []
    },
    "kernelspec": {
      "name": "python3",
      "display_name": "Python 3"
    },
    "language_info": {
      "name": "python"
    }
  },
  "cells": [
    {
      "cell_type": "markdown",
      "source": [
        "# 1. Open Kaggle and jump to the you profile section under  account section create new api token."
      ],
      "metadata": {
        "id": "e7aME9TPohlB"
      }
    },
    {
      "cell_type": "markdown",
      "source": [
        "# 2. Upload the kaggle.json file on google colab"
      ],
      "metadata": {
        "id": "-0M1dOr2pxe8"
      }
    },
    {
      "cell_type": "code",
      "source": [
        "!mkdir -p ~/.kaggle\n",
        "!cp kaggle.json ~/.kaggle/"
      ],
      "metadata": {
        "id": "IWzp-eMyp8RG"
      },
      "execution_count": 8,
      "outputs": []
    },
    {
      "cell_type": "markdown",
      "source": [
        "# 3. Whatever dataset you want to use just go there in right side click on three dot option popup Copied API command click that. And paste that"
      ],
      "metadata": {
        "id": "MTX8stRNqsSS"
      }
    },
    {
      "cell_type": "code",
      "source": [
        "! kaggle datasets download -d wobotintelligence/face-mask-detection-dataset"
      ],
      "metadata": {
        "colab": {
          "base_uri": "https://localhost:8080/"
        },
        "id": "QFv0fPkIrh6x",
        "outputId": "2cb994a0-df41-4ffa-ec88-27644f83fb74"
      },
      "execution_count": 9,
      "outputs": [
        {
          "output_type": "stream",
          "name": "stdout",
          "text": [
            "Warning: Your Kaggle API key is readable by other users on this system! To fix this, you can run 'chmod 600 /root/.kaggle/kaggle.json'\n",
            "Downloading face-mask-detection-dataset.zip to /content\n",
            "100% 2.49G/2.50G [01:08<00:00, 26.6MB/s]\n",
            "100% 2.50G/2.50G [01:08<00:00, 39.2MB/s]\n"
          ]
        }
      ]
    },
    {
      "cell_type": "markdown",
      "source": [
        "# 4. Only problem is to the download file is in zip format so we run the some code to unzip this particular file."
      ],
      "metadata": {
        "id": "hgCZNTWHsQs4"
      }
    },
    {
      "cell_type": "code",
      "source": [
        "import zipfile\n",
        "zip_ref = zipfile.ZipFile(\"face-mask-detection-dataset.zip\",\"r\")\n",
        "zip_ref.extractall(\"/content\")\n",
        "zip_ref.close()"
      ],
      "metadata": {
        "id": "hf7X4daKsfl0"
      },
      "execution_count": 10,
      "outputs": []
    },
    {
      "cell_type": "code",
      "source": [
        ""
      ],
      "metadata": {
        "id": "26GC4d71t2sm"
      },
      "execution_count": null,
      "outputs": []
    }
  ]
}